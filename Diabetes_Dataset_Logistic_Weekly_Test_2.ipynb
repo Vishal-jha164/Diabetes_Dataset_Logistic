{
 "cells": [
  {
   "cell_type": "markdown",
   "metadata": {
    "id": "NdVP5hIckeR4"
   },
   "source": [
    "**Name: Vishal kumar jha**\n",
    "# ***Classification***"
   ]
  },
  {
   "cell_type": "code",
   "execution_count": 49,
   "metadata": {
    "id": "_uGbHsEhitnZ"
   },
   "outputs": [],
   "source": [
    "import pandas as pd"
   ]
  },
  {
   "cell_type": "code",
   "execution_count": 50,
   "metadata": {
    "colab": {
     "base_uri": "https://localhost:8080/",
     "height": 430
    },
    "id": "Qgiyia3XiwDo",
    "outputId": "1b57745b-6061-428a-afd6-04d4539c22fb"
   },
   "outputs": [
    {
     "data": {
      "text/html": [
       "\n",
       "  <div id=\"df-08a7e0a4-a279-49fd-b64a-ca0eab5ab4ba\">\n",
       "    <div class=\"colab-df-container\">\n",
       "      <div>\n",
       "<style scoped>\n",
       "    .dataframe tbody tr th:only-of-type {\n",
       "        vertical-align: middle;\n",
       "    }\n",
       "\n",
       "    .dataframe tbody tr th {\n",
       "        vertical-align: top;\n",
       "    }\n",
       "\n",
       "    .dataframe thead th {\n",
       "        text-align: right;\n",
       "    }\n",
       "</style>\n",
       "<table border=\"1\" class=\"dataframe\">\n",
       "  <thead>\n",
       "    <tr style=\"text-align: right;\">\n",
       "      <th></th>\n",
       "      <th>pregnancies</th>\n",
       "      <th>glucose</th>\n",
       "      <th>diastolic</th>\n",
       "      <th>triceps</th>\n",
       "      <th>insulin</th>\n",
       "      <th>bmi</th>\n",
       "      <th>dpf</th>\n",
       "      <th>age</th>\n",
       "      <th>diabetes</th>\n",
       "    </tr>\n",
       "  </thead>\n",
       "  <tbody>\n",
       "    <tr>\n",
       "      <th>0</th>\n",
       "      <td>6</td>\n",
       "      <td>148</td>\n",
       "      <td>72</td>\n",
       "      <td>35</td>\n",
       "      <td>0</td>\n",
       "      <td>33.6</td>\n",
       "      <td>0.627</td>\n",
       "      <td>50</td>\n",
       "      <td>1</td>\n",
       "    </tr>\n",
       "    <tr>\n",
       "      <th>1</th>\n",
       "      <td>1</td>\n",
       "      <td>85</td>\n",
       "      <td>66</td>\n",
       "      <td>29</td>\n",
       "      <td>0</td>\n",
       "      <td>26.6</td>\n",
       "      <td>0.351</td>\n",
       "      <td>31</td>\n",
       "      <td>0</td>\n",
       "    </tr>\n",
       "    <tr>\n",
       "      <th>2</th>\n",
       "      <td>8</td>\n",
       "      <td>183</td>\n",
       "      <td>64</td>\n",
       "      <td>0</td>\n",
       "      <td>0</td>\n",
       "      <td>23.3</td>\n",
       "      <td>0.672</td>\n",
       "      <td>32</td>\n",
       "      <td>1</td>\n",
       "    </tr>\n",
       "    <tr>\n",
       "      <th>3</th>\n",
       "      <td>1</td>\n",
       "      <td>89</td>\n",
       "      <td>66</td>\n",
       "      <td>23</td>\n",
       "      <td>94</td>\n",
       "      <td>28.1</td>\n",
       "      <td>0.167</td>\n",
       "      <td>21</td>\n",
       "      <td>0</td>\n",
       "    </tr>\n",
       "    <tr>\n",
       "      <th>4</th>\n",
       "      <td>0</td>\n",
       "      <td>137</td>\n",
       "      <td>40</td>\n",
       "      <td>35</td>\n",
       "      <td>168</td>\n",
       "      <td>43.1</td>\n",
       "      <td>2.288</td>\n",
       "      <td>33</td>\n",
       "      <td>1</td>\n",
       "    </tr>\n",
       "    <tr>\n",
       "      <th>5</th>\n",
       "      <td>5</td>\n",
       "      <td>116</td>\n",
       "      <td>74</td>\n",
       "      <td>0</td>\n",
       "      <td>0</td>\n",
       "      <td>25.6</td>\n",
       "      <td>0.201</td>\n",
       "      <td>30</td>\n",
       "      <td>0</td>\n",
       "    </tr>\n",
       "    <tr>\n",
       "      <th>6</th>\n",
       "      <td>3</td>\n",
       "      <td>78</td>\n",
       "      <td>50</td>\n",
       "      <td>32</td>\n",
       "      <td>88</td>\n",
       "      <td>31.0</td>\n",
       "      <td>0.248</td>\n",
       "      <td>26</td>\n",
       "      <td>1</td>\n",
       "    </tr>\n",
       "    <tr>\n",
       "      <th>7</th>\n",
       "      <td>10</td>\n",
       "      <td>115</td>\n",
       "      <td>0</td>\n",
       "      <td>0</td>\n",
       "      <td>0</td>\n",
       "      <td>35.3</td>\n",
       "      <td>0.134</td>\n",
       "      <td>29</td>\n",
       "      <td>0</td>\n",
       "    </tr>\n",
       "    <tr>\n",
       "      <th>8</th>\n",
       "      <td>2</td>\n",
       "      <td>197</td>\n",
       "      <td>70</td>\n",
       "      <td>45</td>\n",
       "      <td>543</td>\n",
       "      <td>30.5</td>\n",
       "      <td>0.158</td>\n",
       "      <td>53</td>\n",
       "      <td>1</td>\n",
       "    </tr>\n",
       "    <tr>\n",
       "      <th>9</th>\n",
       "      <td>8</td>\n",
       "      <td>125</td>\n",
       "      <td>96</td>\n",
       "      <td>0</td>\n",
       "      <td>0</td>\n",
       "      <td>0.0</td>\n",
       "      <td>0.232</td>\n",
       "      <td>54</td>\n",
       "      <td>1</td>\n",
       "    </tr>\n",
       "    <tr>\n",
       "      <th>10</th>\n",
       "      <td>4</td>\n",
       "      <td>110</td>\n",
       "      <td>92</td>\n",
       "      <td>0</td>\n",
       "      <td>0</td>\n",
       "      <td>37.6</td>\n",
       "      <td>0.191</td>\n",
       "      <td>30</td>\n",
       "      <td>0</td>\n",
       "    </tr>\n",
       "    <tr>\n",
       "      <th>11</th>\n",
       "      <td>10</td>\n",
       "      <td>168</td>\n",
       "      <td>74</td>\n",
       "      <td>0</td>\n",
       "      <td>0</td>\n",
       "      <td>38.0</td>\n",
       "      <td>0.537</td>\n",
       "      <td>34</td>\n",
       "      <td>1</td>\n",
       "    </tr>\n",
       "    <tr>\n",
       "      <th>12</th>\n",
       "      <td>10</td>\n",
       "      <td>139</td>\n",
       "      <td>80</td>\n",
       "      <td>0</td>\n",
       "      <td>0</td>\n",
       "      <td>27.1</td>\n",
       "      <td>1.441</td>\n",
       "      <td>57</td>\n",
       "      <td>0</td>\n",
       "    </tr>\n",
       "    <tr>\n",
       "      <th>13</th>\n",
       "      <td>1</td>\n",
       "      <td>189</td>\n",
       "      <td>60</td>\n",
       "      <td>23</td>\n",
       "      <td>846</td>\n",
       "      <td>30.1</td>\n",
       "      <td>0.398</td>\n",
       "      <td>59</td>\n",
       "      <td>1</td>\n",
       "    </tr>\n",
       "    <tr>\n",
       "      <th>14</th>\n",
       "      <td>5</td>\n",
       "      <td>166</td>\n",
       "      <td>72</td>\n",
       "      <td>19</td>\n",
       "      <td>175</td>\n",
       "      <td>25.8</td>\n",
       "      <td>0.587</td>\n",
       "      <td>51</td>\n",
       "      <td>1</td>\n",
       "    </tr>\n",
       "  </tbody>\n",
       "</table>\n",
       "</div>\n",
       "      <button class=\"colab-df-convert\" onclick=\"convertToInteractive('df-08a7e0a4-a279-49fd-b64a-ca0eab5ab4ba')\"\n",
       "              title=\"Convert this dataframe to an interactive table.\"\n",
       "              style=\"display:none;\">\n",
       "        \n",
       "  <svg xmlns=\"http://www.w3.org/2000/svg\" height=\"24px\"viewBox=\"0 0 24 24\"\n",
       "       width=\"24px\">\n",
       "    <path d=\"M0 0h24v24H0V0z\" fill=\"none\"/>\n",
       "    <path d=\"M18.56 5.44l.94 2.06.94-2.06 2.06-.94-2.06-.94-.94-2.06-.94 2.06-2.06.94zm-11 1L8.5 8.5l.94-2.06 2.06-.94-2.06-.94L8.5 2.5l-.94 2.06-2.06.94zm10 10l.94 2.06.94-2.06 2.06-.94-2.06-.94-.94-2.06-.94 2.06-2.06.94z\"/><path d=\"M17.41 7.96l-1.37-1.37c-.4-.4-.92-.59-1.43-.59-.52 0-1.04.2-1.43.59L10.3 9.45l-7.72 7.72c-.78.78-.78 2.05 0 2.83L4 21.41c.39.39.9.59 1.41.59.51 0 1.02-.2 1.41-.59l7.78-7.78 2.81-2.81c.8-.78.8-2.07 0-2.86zM5.41 20L4 18.59l7.72-7.72 1.47 1.35L5.41 20z\"/>\n",
       "  </svg>\n",
       "      </button>\n",
       "      \n",
       "  <style>\n",
       "    .colab-df-container {\n",
       "      display:flex;\n",
       "      flex-wrap:wrap;\n",
       "      gap: 12px;\n",
       "    }\n",
       "\n",
       "    .colab-df-convert {\n",
       "      background-color: #E8F0FE;\n",
       "      border: none;\n",
       "      border-radius: 50%;\n",
       "      cursor: pointer;\n",
       "      display: none;\n",
       "      fill: #1967D2;\n",
       "      height: 32px;\n",
       "      padding: 0 0 0 0;\n",
       "      width: 32px;\n",
       "    }\n",
       "\n",
       "    .colab-df-convert:hover {\n",
       "      background-color: #E2EBFA;\n",
       "      box-shadow: 0px 1px 2px rgba(60, 64, 67, 0.3), 0px 1px 3px 1px rgba(60, 64, 67, 0.15);\n",
       "      fill: #174EA6;\n",
       "    }\n",
       "\n",
       "    [theme=dark] .colab-df-convert {\n",
       "      background-color: #3B4455;\n",
       "      fill: #D2E3FC;\n",
       "    }\n",
       "\n",
       "    [theme=dark] .colab-df-convert:hover {\n",
       "      background-color: #434B5C;\n",
       "      box-shadow: 0px 1px 3px 1px rgba(0, 0, 0, 0.15);\n",
       "      filter: drop-shadow(0px 1px 2px rgba(0, 0, 0, 0.3));\n",
       "      fill: #FFFFFF;\n",
       "    }\n",
       "  </style>\n",
       "\n",
       "      <script>\n",
       "        const buttonEl =\n",
       "          document.querySelector('#df-08a7e0a4-a279-49fd-b64a-ca0eab5ab4ba button.colab-df-convert');\n",
       "        buttonEl.style.display =\n",
       "          google.colab.kernel.accessAllowed ? 'block' : 'none';\n",
       "\n",
       "        async function convertToInteractive(key) {\n",
       "          const element = document.querySelector('#df-08a7e0a4-a279-49fd-b64a-ca0eab5ab4ba');\n",
       "          const dataTable =\n",
       "            await google.colab.kernel.invokeFunction('convertToInteractive',\n",
       "                                                     [key], {});\n",
       "          if (!dataTable) return;\n",
       "\n",
       "          const docLinkHtml = 'Like what you see? Visit the ' +\n",
       "            '<a target=\"_blank\" href=https://colab.research.google.com/notebooks/data_table.ipynb>data table notebook</a>'\n",
       "            + ' to learn more about interactive tables.';\n",
       "          element.innerHTML = '';\n",
       "          dataTable['output_type'] = 'display_data';\n",
       "          await google.colab.output.renderOutput(dataTable, element);\n",
       "          const docLink = document.createElement('div');\n",
       "          docLink.innerHTML = docLinkHtml;\n",
       "          element.appendChild(docLink);\n",
       "        }\n",
       "      </script>\n",
       "    </div>\n",
       "  </div>\n",
       "  "
      ],
      "text/plain": [
       "    pregnancies  glucose  diastolic  triceps  ...   bmi    dpf  age  diabetes\n",
       "0             6      148         72       35  ...  33.6  0.627   50         1\n",
       "1             1       85         66       29  ...  26.6  0.351   31         0\n",
       "2             8      183         64        0  ...  23.3  0.672   32         1\n",
       "3             1       89         66       23  ...  28.1  0.167   21         0\n",
       "4             0      137         40       35  ...  43.1  2.288   33         1\n",
       "5             5      116         74        0  ...  25.6  0.201   30         0\n",
       "6             3       78         50       32  ...  31.0  0.248   26         1\n",
       "7            10      115          0        0  ...  35.3  0.134   29         0\n",
       "8             2      197         70       45  ...  30.5  0.158   53         1\n",
       "9             8      125         96        0  ...   0.0  0.232   54         1\n",
       "10            4      110         92        0  ...  37.6  0.191   30         0\n",
       "11           10      168         74        0  ...  38.0  0.537   34         1\n",
       "12           10      139         80        0  ...  27.1  1.441   57         0\n",
       "13            1      189         60       23  ...  30.1  0.398   59         1\n",
       "14            5      166         72       19  ...  25.8  0.587   51         1\n",
       "\n",
       "[15 rows x 9 columns]"
      ]
     },
     "execution_count": 50,
     "metadata": {},
     "output_type": "execute_result"
    }
   ],
   "source": [
    "df=pd.read_csv('/content/Diabetes dataset.csv')\n",
    "df.head(15)"
   ]
  },
  {
   "cell_type": "code",
   "execution_count": 51,
   "metadata": {
    "colab": {
     "base_uri": "https://localhost:8080/"
    },
    "id": "Et8YmnpbiwOz",
    "outputId": "7d7ef699-7385-4ba1-ba06-26136fa92849"
   },
   "outputs": [
    {
     "data": {
      "text/plain": [
       "Index(['pregnancies', 'glucose', 'diastolic', 'triceps', 'insulin', 'bmi',\n",
       "       'dpf', 'age', 'diabetes'],\n",
       "      dtype='object')"
      ]
     },
     "execution_count": 51,
     "metadata": {},
     "output_type": "execute_result"
    }
   ],
   "source": [
    "df.columns"
   ]
  },
  {
   "cell_type": "code",
   "execution_count": 52,
   "metadata": {
    "id": "luw2FUfOiwQo"
   },
   "outputs": [],
   "source": [
    "#Features\n",
    "X=df[['pregnancies', 'glucose', 'diastolic',  'bmi',\n",
    "       'dpf', 'age']]"
   ]
  },
  {
   "cell_type": "code",
   "execution_count": 53,
   "metadata": {
    "id": "LaxR-jkxiwSn"
   },
   "outputs": [],
   "source": [
    "#Target var\n",
    "y=df['diabetes']"
   ]
  },
  {
   "cell_type": "code",
   "execution_count": 54,
   "metadata": {
    "id": "GdNOgoobiwWl"
   },
   "outputs": [],
   "source": [
    "#spliting data into train and test data\n",
    "from sklearn.model_selection import train_test_split\n",
    "\n",
    "X_train, X_test, y_train, y_test = train_test_split( X, y, train_size = 0.7, random_state = 252)"
   ]
  },
  {
   "cell_type": "code",
   "execution_count": 55,
   "metadata": {
    "colab": {
     "base_uri": "https://localhost:8080/"
    },
    "id": "1IdX4YLXjYo7",
    "outputId": "a2b79b6c-626f-45e3-a366-6846ebf97b66"
   },
   "outputs": [
    {
     "data": {
      "text/plain": [
       "LogisticRegression(max_iter=500, random_state=252)"
      ]
     },
     "execution_count": 55,
     "metadata": {},
     "output_type": "execute_result"
    }
   ],
   "source": [
    "#training data\n",
    "from sklearn.linear_model import LogisticRegression\n",
    "\n",
    "model = LogisticRegression(max_iter=500,random_state=252)    #max_iter is 100 bydefault\n",
    "\n",
    "model.fit(X_train, y_train)"
   ]
  },
  {
   "cell_type": "code",
   "execution_count": 56,
   "metadata": {
    "colab": {
     "base_uri": "https://localhost:8080/"
    },
    "id": "TRQ9_fUbjYrO",
    "outputId": "2df3f0a2-9c54-44c1-c143-a67439771b7d"
   },
   "outputs": [
    {
     "data": {
      "text/plain": [
       "array([0, 0, 0, 0, 0, 1, 1, 0, 0, 0, 1, 1, 0, 0, 0, 0, 0, 0, 0, 0, 0, 0,\n",
       "       0, 1, 1, 1, 0, 0, 0, 0, 1, 0, 0, 0, 0, 0, 0, 0, 0, 0, 1, 0, 0, 0,\n",
       "       0, 0, 1, 0, 1, 0, 0, 0, 0, 0, 1, 0, 0, 0, 0, 0, 0, 1, 0, 0, 0, 0,\n",
       "       1, 0, 0, 1, 1, 0, 0, 1, 0, 0, 0, 0, 1, 1, 1, 0, 0, 0, 0, 0, 0, 1,\n",
       "       0, 1, 0, 1, 0, 0, 0, 0, 0, 0, 0, 0, 0, 1, 0, 1, 0, 1, 1, 1, 1, 0,\n",
       "       0, 0, 0, 1, 1, 1, 1, 0, 1, 1, 0, 0, 1, 0, 0, 1, 1, 0, 1, 0, 0, 1,\n",
       "       0, 0, 0, 0, 0, 0, 0, 0, 0, 0, 0, 0, 0, 0, 1, 1, 0, 0, 0, 0, 0, 0,\n",
       "       0, 0, 0, 0, 0, 0, 0, 0, 1, 0, 1, 0, 0, 1, 0, 0, 0, 0, 0, 0, 0, 0,\n",
       "       1, 0, 1, 0, 0, 0, 1, 0, 1, 0, 0, 1, 0, 1, 0, 1, 0, 0, 0, 0, 1, 0,\n",
       "       0, 1, 0, 1, 1, 1, 1, 1, 0, 0, 0, 0, 0, 1, 0, 0, 0, 0, 0, 0, 0, 0,\n",
       "       1, 1, 0, 1, 0, 1, 0, 0, 0, 0, 0])"
      ]
     },
     "execution_count": 56,
     "metadata": {},
     "output_type": "execute_result"
    }
   ],
   "source": [
    "#predicting - using testdata\n",
    "y_pred = model.predict(X_test)\n",
    "y_pred"
   ]
  },
  {
   "cell_type": "code",
   "execution_count": 57,
   "metadata": {
    "colab": {
     "base_uri": "https://localhost:8080/"
    },
    "id": "YX3o1hwajYuA",
    "outputId": "1a29cdca-e8cd-4c43-aa83-70aa870ee5cb"
   },
   "outputs": [
    {
     "data": {
      "text/plain": [
       "array([[0.84303735, 0.15696265],\n",
       "       [0.58348287, 0.41651713],\n",
       "       [0.86750218, 0.13249782],\n",
       "       [0.90158708, 0.09841292],\n",
       "       [0.67204078, 0.32795922],\n",
       "       [0.16582629, 0.83417371],\n",
       "       [0.12042081, 0.87957919],\n",
       "       [0.58989555, 0.41010445],\n",
       "       [0.95354822, 0.04645178],\n",
       "       [0.95372811, 0.04627189],\n",
       "       [0.35607534, 0.64392466],\n",
       "       [0.250389  , 0.749611  ],\n",
       "       [0.69238904, 0.30761096],\n",
       "       [0.9614356 , 0.0385644 ],\n",
       "       [0.68113289, 0.31886711],\n",
       "       [0.89811701, 0.10188299],\n",
       "       [0.50985071, 0.49014929],\n",
       "       [0.9062145 , 0.0937855 ],\n",
       "       [0.89492734, 0.10507266],\n",
       "       [0.94938275, 0.05061725],\n",
       "       [0.9800664 , 0.0199336 ],\n",
       "       [0.95818592, 0.04181408],\n",
       "       [0.7047435 , 0.2952565 ],\n",
       "       [0.03442141, 0.96557859],\n",
       "       [0.27955348, 0.72044652],\n",
       "       [0.38497032, 0.61502968],\n",
       "       [0.58836009, 0.41163991],\n",
       "       [0.91785459, 0.08214541],\n",
       "       [0.91252073, 0.08747927],\n",
       "       [0.68675187, 0.31324813],\n",
       "       [0.33354665, 0.66645335],\n",
       "       [0.76613631, 0.23386369],\n",
       "       [0.76396926, 0.23603074],\n",
       "       [0.86633324, 0.13366676],\n",
       "       [0.57090051, 0.42909949],\n",
       "       [0.93524956, 0.06475044],\n",
       "       [0.52821176, 0.47178824],\n",
       "       [0.8215452 , 0.1784548 ],\n",
       "       [0.74896381, 0.25103619],\n",
       "       [0.67896925, 0.32103075],\n",
       "       [0.02192949, 0.97807051],\n",
       "       [0.87054906, 0.12945094],\n",
       "       [0.9537167 , 0.0462833 ],\n",
       "       [0.64004414, 0.35995586],\n",
       "       [0.88877725, 0.11122275],\n",
       "       [0.80138351, 0.19861649],\n",
       "       [0.44884177, 0.55115823],\n",
       "       [0.77377254, 0.22622746],\n",
       "       [0.066591  , 0.933409  ],\n",
       "       [0.91428214, 0.08571786],\n",
       "       [0.97020523, 0.02979477],\n",
       "       [0.87442866, 0.12557134],\n",
       "       [0.87733064, 0.12266936],\n",
       "       [0.91150091, 0.08849909],\n",
       "       [0.36553429, 0.63446571],\n",
       "       [0.91513878, 0.08486122],\n",
       "       [0.8765248 , 0.1234752 ],\n",
       "       [0.5807606 , 0.4192394 ],\n",
       "       [0.92979073, 0.07020927],\n",
       "       [0.73593526, 0.26406474],\n",
       "       [0.76305961, 0.23694039],\n",
       "       [0.45428619, 0.54571381],\n",
       "       [0.75899154, 0.24100846],\n",
       "       [0.65686262, 0.34313738],\n",
       "       [0.75607166, 0.24392834],\n",
       "       [0.64183975, 0.35816025],\n",
       "       [0.39462884, 0.60537116],\n",
       "       [0.86187724, 0.13812276],\n",
       "       [0.69646475, 0.30353525],\n",
       "       [0.22464745, 0.77535255],\n",
       "       [0.21032719, 0.78967281],\n",
       "       [0.86793054, 0.13206946],\n",
       "       [0.94588443, 0.05411557],\n",
       "       [0.14459673, 0.85540327],\n",
       "       [0.64606267, 0.35393733],\n",
       "       [0.96374508, 0.03625492],\n",
       "       [0.51799765, 0.48200235],\n",
       "       [0.97412005, 0.02587995],\n",
       "       [0.12811259, 0.87188741],\n",
       "       [0.23289619, 0.76710381],\n",
       "       [0.05031694, 0.94968306],\n",
       "       [0.76404728, 0.23595272],\n",
       "       [0.69980148, 0.30019852],\n",
       "       [0.55171421, 0.44828579],\n",
       "       [0.89616834, 0.10383166],\n",
       "       [0.83234869, 0.16765131],\n",
       "       [0.9677141 , 0.0322859 ],\n",
       "       [0.25165738, 0.74834262],\n",
       "       [0.97688745, 0.02311255],\n",
       "       [0.39768258, 0.60231742],\n",
       "       [0.84837387, 0.15162613],\n",
       "       [0.41283632, 0.58716368],\n",
       "       [0.98722767, 0.01277233],\n",
       "       [0.91317993, 0.08682007],\n",
       "       [0.56050629, 0.43949371],\n",
       "       [0.93865448, 0.06134552],\n",
       "       [0.60445995, 0.39554005],\n",
       "       [0.85943857, 0.14056143],\n",
       "       [0.77655309, 0.22344691],\n",
       "       [0.8222507 , 0.1777493 ],\n",
       "       [0.83572614, 0.16427386],\n",
       "       [0.17404455, 0.82595545],\n",
       "       [0.62735722, 0.37264278],\n",
       "       [0.14176753, 0.85823247],\n",
       "       [0.78433884, 0.21566116],\n",
       "       [0.38160388, 0.61839612],\n",
       "       [0.34405114, 0.65594886],\n",
       "       [0.30363153, 0.69636847],\n",
       "       [0.31985368, 0.68014632],\n",
       "       [0.7664728 , 0.2335272 ],\n",
       "       [0.87607472, 0.12392528],\n",
       "       [0.76328608, 0.23671392],\n",
       "       [0.55997464, 0.44002536],\n",
       "       [0.08386692, 0.91613308],\n",
       "       [0.03329807, 0.96670193],\n",
       "       [0.36999591, 0.63000409],\n",
       "       [0.22249551, 0.77750449],\n",
       "       [0.96674792, 0.03325208],\n",
       "       [0.15450269, 0.84549731],\n",
       "       [0.44922212, 0.55077788],\n",
       "       [0.89780863, 0.10219137],\n",
       "       [0.82045563, 0.17954437],\n",
       "       [0.21285783, 0.78714217],\n",
       "       [0.63478216, 0.36521784],\n",
       "       [0.56251529, 0.43748471],\n",
       "       [0.18066736, 0.81933264],\n",
       "       [0.26874039, 0.73125961],\n",
       "       [0.57854138, 0.42145862],\n",
       "       [0.28830471, 0.71169529],\n",
       "       [0.97505088, 0.02494912],\n",
       "       [0.878383  , 0.121617  ],\n",
       "       [0.38799185, 0.61200815],\n",
       "       [0.61672721, 0.38327279],\n",
       "       [0.79574021, 0.20425979],\n",
       "       [0.98821906, 0.01178094],\n",
       "       [0.52927029, 0.47072971],\n",
       "       [0.73015385, 0.26984615],\n",
       "       [0.81072121, 0.18927879],\n",
       "       [0.77389815, 0.22610185],\n",
       "       [0.85500365, 0.14499635],\n",
       "       [0.82508855, 0.17491145],\n",
       "       [0.69097257, 0.30902743],\n",
       "       [0.96026301, 0.03973699],\n",
       "       [0.85008418, 0.14991582],\n",
       "       [0.8665279 , 0.1334721 ],\n",
       "       [0.7727319 , 0.2272681 ],\n",
       "       [0.40890566, 0.59109434],\n",
       "       [0.49731963, 0.50268037],\n",
       "       [0.58900992, 0.41099008],\n",
       "       [0.5292452 , 0.4707548 ],\n",
       "       [0.85395848, 0.14604152],\n",
       "       [0.95606759, 0.04393241],\n",
       "       [0.92931986, 0.07068014],\n",
       "       [0.70190876, 0.29809124],\n",
       "       [0.89512317, 0.10487683],\n",
       "       [0.82126176, 0.17873824],\n",
       "       [0.9667927 , 0.0332073 ],\n",
       "       [0.97204198, 0.02795802],\n",
       "       [0.88039992, 0.11960008],\n",
       "       [0.83215703, 0.16784297],\n",
       "       [0.79291791, 0.20708209],\n",
       "       [0.88523587, 0.11476413],\n",
       "       [0.09276506, 0.90723494],\n",
       "       [0.82018197, 0.17981803],\n",
       "       [0.08139964, 0.91860036],\n",
       "       [0.69503405, 0.30496595],\n",
       "       [0.89782948, 0.10217052],\n",
       "       [0.09796809, 0.90203191],\n",
       "       [0.93311883, 0.06688117],\n",
       "       [0.8614125 , 0.1385875 ],\n",
       "       [0.90996955, 0.09003045],\n",
       "       [0.95795835, 0.04204165],\n",
       "       [0.74001094, 0.25998906],\n",
       "       [0.92918474, 0.07081526],\n",
       "       [0.94252016, 0.05747984],\n",
       "       [0.92520122, 0.07479878],\n",
       "       [0.46463763, 0.53536237],\n",
       "       [0.50423389, 0.49576611],\n",
       "       [0.18267382, 0.81732618],\n",
       "       [0.84128102, 0.15871898],\n",
       "       [0.934369  , 0.065631  ],\n",
       "       [0.79165826, 0.20834174],\n",
       "       [0.20472865, 0.79527135],\n",
       "       [0.9560605 , 0.0439395 ],\n",
       "       [0.05499314, 0.94500686],\n",
       "       [0.96733914, 0.03266086],\n",
       "       [0.78683531, 0.21316469],\n",
       "       [0.37078474, 0.62921526],\n",
       "       [0.96254851, 0.03745149],\n",
       "       [0.49098846, 0.50901154],\n",
       "       [0.69627972, 0.30372028],\n",
       "       [0.30126402, 0.69873598],\n",
       "       [0.8641174 , 0.1358826 ],\n",
       "       [0.68831111, 0.31168889],\n",
       "       [0.89813234, 0.10186766],\n",
       "       [0.70294969, 0.29705031],\n",
       "       [0.29020661, 0.70979339],\n",
       "       [0.98924947, 0.01075053],\n",
       "       [0.98199733, 0.01800267],\n",
       "       [0.19814053, 0.80185947],\n",
       "       [0.91588676, 0.08411324],\n",
       "       [0.05930392, 0.94069608],\n",
       "       [0.34612754, 0.65387246],\n",
       "       [0.41088187, 0.58911813],\n",
       "       [0.21976447, 0.78023553],\n",
       "       [0.12704923, 0.87295077],\n",
       "       [0.87556693, 0.12443307],\n",
       "       [0.92553483, 0.07446517],\n",
       "       [0.63636491, 0.36363509],\n",
       "       [0.82822103, 0.17177897],\n",
       "       [0.97877704, 0.02122296],\n",
       "       [0.09857032, 0.90142968],\n",
       "       [0.50406425, 0.49593575],\n",
       "       [0.93712327, 0.06287673],\n",
       "       [0.60977927, 0.39022073],\n",
       "       [0.80710082, 0.19289918],\n",
       "       [0.77549367, 0.22450633],\n",
       "       [0.89460913, 0.10539087],\n",
       "       [0.7320398 , 0.2679602 ],\n",
       "       [0.88114362, 0.11885638],\n",
       "       [0.04597312, 0.95402688],\n",
       "       [0.46357096, 0.53642904],\n",
       "       [0.90867441, 0.09132559],\n",
       "       [0.24453466, 0.75546534],\n",
       "       [0.91228879, 0.08771121],\n",
       "       [0.22284731, 0.77715269],\n",
       "       [0.91905069, 0.08094931],\n",
       "       [0.8937435 , 0.1062565 ],\n",
       "       [0.53874549, 0.46125451],\n",
       "       [0.98239848, 0.01760152],\n",
       "       [0.70685657, 0.29314343]])"
      ]
     },
     "execution_count": 57,
     "metadata": {},
     "output_type": "execute_result"
    }
   ],
   "source": [
    "model.predict_proba(X_test)    # gives how much is the probability for person being diabetic or non-diabetic "
   ]
  },
  {
   "cell_type": "code",
   "execution_count": 57,
   "metadata": {
    "id": "UCIHkAYIiHM8"
   },
   "outputs": [],
   "source": []
  },
  {
   "cell_type": "markdown",
   "metadata": {
    "id": "5CiZhAbYiU-0"
   },
   "source": [
    "**Accuracy/Evaluation**"
   ]
  },
  {
   "cell_type": "code",
   "execution_count": 58,
   "metadata": {
    "colab": {
     "base_uri": "https://localhost:8080/"
    },
    "id": "Y9Hq9nGQiHSo",
    "outputId": "f5f3d416-80db-40ac-e488-4a08e728cf3f"
   },
   "outputs": [
    {
     "data": {
      "text/plain": [
       "array([[133,  20],\n",
       "       [ 34,  44]])"
      ]
     },
     "execution_count": 58,
     "metadata": {},
     "output_type": "execute_result"
    }
   ],
   "source": [
    "from sklearn.metrics import confusion_matrix , classification_report\n",
    "confusion_matrix(y_test,y_pred)   #this matrix/array compared the actual values with predicted values and give result as TP,TN,FP,FN.\n",
    "#diagonals values are true i.e our predicted value is same as actual value."
   ]
  },
  {
   "cell_type": "code",
   "execution_count": 59,
   "metadata": {
    "colab": {
     "base_uri": "https://localhost:8080/"
    },
    "id": "BGdUhta_iHVr",
    "outputId": "755d9e71-0df2-4990-8181-c78444a641e5"
   },
   "outputs": [
    {
     "name": "stdout",
     "output_type": "stream",
     "text": [
      "              precision    recall  f1-score   support\n",
      "\n",
      "           0       0.80      0.87      0.83       153\n",
      "           1       0.69      0.56      0.62        78\n",
      "\n",
      "    accuracy                           0.77       231\n",
      "   macro avg       0.74      0.72      0.73       231\n",
      "weighted avg       0.76      0.77      0.76       231\n",
      "\n"
     ]
    }
   ],
   "source": [
    "print(classification_report(y_test,y_pred))  #this provides you overall accuracy of ur model,precision and recall."
   ]
  },
  {
   "cell_type": "code",
   "execution_count": 60,
   "metadata": {
    "id": "8QK0yYwViHXg"
   },
   "outputs": [],
   "source": [
    "#accuracy : (133+44)/231            .... 231 are total test samples.\n",
    "#precision : what % of ur predictions were correct. It is an ability of a classifier not to label an instance +ve that is actually -ve.   tp/(tp+fp)\n",
    "#Recall : TP/(TP+FN). ....(For 0/-ve we have 87% and for +ve/1 we have 62% Recall)."
   ]
  },
  {
   "cell_type": "code",
   "execution_count": 60,
   "metadata": {
    "id": "nh3T0xRPiHZf"
   },
   "outputs": [],
   "source": []
  },
  {
   "cell_type": "markdown",
   "metadata": {
    "id": "Mwd_BZSSosU4"
   },
   "source": [
    "**StatsModel**"
   ]
  },
  {
   "cell_type": "code",
   "execution_count": 61,
   "metadata": {
    "id": "cq9qsv0liHbe"
   },
   "outputs": [],
   "source": [
    "import statsmodels.api as sm "
   ]
  },
  {
   "cell_type": "code",
   "execution_count": 62,
   "metadata": {
    "colab": {
     "base_uri": "https://localhost:8080/"
    },
    "id": "_WOMyPz9iHdk",
    "outputId": "6a186ad9-6a8e-4e57-e06d-46647213364c"
   },
   "outputs": [
    {
     "data": {
      "text/plain": [
       "(768, 6)"
      ]
     },
     "execution_count": 62,
     "metadata": {},
     "output_type": "execute_result"
    }
   ],
   "source": [
    "X.shape"
   ]
  },
  {
   "cell_type": "code",
   "execution_count": 63,
   "metadata": {
    "id": "shuv2cRgiHfh"
   },
   "outputs": [],
   "source": [
    "X=sm.add_constant(X)"
   ]
  },
  {
   "cell_type": "code",
   "execution_count": 64,
   "metadata": {
    "colab": {
     "base_uri": "https://localhost:8080/"
    },
    "id": "vH4wpJ_JiHhm",
    "outputId": "4605408e-0813-4b11-bf61-abfb7bafa48f"
   },
   "outputs": [
    {
     "data": {
      "text/plain": [
       "(768, 7)"
      ]
     },
     "execution_count": 64,
     "metadata": {},
     "output_type": "execute_result"
    }
   ],
   "source": [
    "X.shape"
   ]
  },
  {
   "cell_type": "code",
   "execution_count": 65,
   "metadata": {
    "colab": {
     "base_uri": "https://localhost:8080/"
    },
    "id": "ohhcuqXkpJr0",
    "outputId": "e4a1c743-9d3f-489f-9d88-ee7816ce10d1"
   },
   "outputs": [
    {
     "name": "stdout",
     "output_type": "stream",
     "text": [
      "Optimization terminated successfully.\n",
      "         Current function value: 0.472306\n",
      "         Iterations 6\n"
     ]
    }
   ],
   "source": [
    "model=sm.Logit(y,X)\n",
    "result=model.fit()"
   ]
  },
  {
   "cell_type": "code",
   "execution_count": 66,
   "metadata": {
    "colab": {
     "base_uri": "https://localhost:8080/"
    },
    "id": "OojDvuPCpTqZ",
    "outputId": "9dbcd4b9-8239-438c-832a-e3c0f16b8a63"
   },
   "outputs": [
    {
     "name": "stdout",
     "output_type": "stream",
     "text": [
      "                           Logit Regression Results                           \n",
      "==============================================================================\n",
      "Dep. Variable:               diabetes   No. Observations:                  768\n",
      "Model:                          Logit   Df Residuals:                      761\n",
      "Method:                           MLE   Df Model:                            6\n",
      "Date:                Sun, 19 Dec 2021   Pseudo R-squ.:                  0.2698\n",
      "Time:                        12:39:43   Log-Likelihood:                -362.73\n",
      "converged:                       True   LL-Null:                       -496.74\n",
      "Covariance Type:            nonrobust   LLR p-value:                 5.747e-55\n",
      "===============================================================================\n",
      "                  coef    std err          z      P>|z|      [0.025      0.975]\n",
      "-------------------------------------------------------------------------------\n",
      "const          -8.2398      0.702    -11.738      0.000      -9.616      -6.864\n",
      "pregnancies     0.1249      0.032      3.907      0.000       0.062       0.188\n",
      "glucose         0.0335      0.003      9.736      0.000       0.027       0.040\n",
      "diastolic      -0.0135      0.005     -2.637      0.008      -0.024      -0.003\n",
      "bmi             0.0877      0.014      6.145      0.000       0.060       0.116\n",
      "dpf             0.8962      0.295      3.039      0.002       0.318       1.474\n",
      "age             0.0163      0.009      1.767      0.077      -0.002       0.034\n",
      "===============================================================================\n"
     ]
    }
   ],
   "source": [
    "print(result.summary())    #here we can make observation like which all attributes/feature affects least/most to our result "
   ]
  }
 ],
 "metadata": {
  "colab": {
   "collapsed_sections": [],
   "name": "Diabetes Dataset Logistic Regression Assignment Weekly Test -2",
   "provenance": []
  },
  "kernelspec": {
   "display_name": "Python 3",
   "language": "python",
   "name": "python3"
  },
  "language_info": {
   "codemirror_mode": {
    "name": "ipython",
    "version": 3
   },
   "file_extension": ".py",
   "mimetype": "text/x-python",
   "name": "python",
   "nbconvert_exporter": "python",
   "pygments_lexer": "ipython3",
   "version": "3.8.8"
  }
 },
 "nbformat": 4,
 "nbformat_minor": 1
}
